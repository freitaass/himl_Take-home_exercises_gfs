{
 "cells": [
  {
   "cell_type": "markdown",
   "metadata": {},
   "source": [
    "Aluno: Gabriel Freitas Santos\n",
    "MEC 2014"
   ]
  },
  {
   "cell_type": "markdown",
   "metadata": {},
   "source": [
    "0 - Desenvolvimento do Modelo AR do trabalho anterior"
   ]
  },
  {
   "cell_type": "code",
   "execution_count": 1,
   "metadata": {},
   "outputs": [],
   "source": [
    "import pandas as pd\n",
    "import scipy.io as sio\n",
    "import numpy as np\n",
    "from os import getcwd,pardir\n",
    "from os.path import join ,abspath\n",
    "import matplotlib.pyplot as plt\n",
    "from tqdm.notebook import tqdm_notebook as tqdm\n",
    "from statsmodels.tsa import ar_model\n",
    "from sklearn.decomposition import PCA\n",
    "from sklearn.preprocessing import MinMaxScaler\n",
    "from sklearn.linear_model import LogisticRegression\n",
    "from sklearn.metrics import confusion_matrix, accuracy_score\n",
    "import seaborn as sns\n",
    "from scipy import stats\n",
    "from scipy.stats.stats import mode\n",
    "from sklearn.preprocessing import StandardScaler\n",
    "from sklearn.model_selection import (train_test_split, RepeatedKFold,\n",
    "RandomizedSearchCV)\n",
    "from sklearn.linear_model import Ridge\n",
    "from sklearn.svm import SVC\n",
    "from sklearn.neighbors import KNeighborsClassifier\n",
    "from sklearn.pipeline import Pipeline\n",
    "from sklearn.tree import DecisionTreeClassifier\n",
    "from sklearn.ensemble import RandomForestClassifier\n",
    "import warnings\n",
    "warnings.filterwarnings('ignore')"
   ]
  },
  {
   "cell_type": "code",
   "execution_count": 2,
   "metadata": {},
   "outputs": [],
   "source": [
    "fname = join(abspath(join(getcwd(), pardir))+'\\\\02_feature','data3SS2009.mat')\n",
    "mat_contents = sio.loadmat(fname)\n",
    "dataset = mat_contents['dataset']\n",
    "N, Chno, Nc = dataset.shape\n",
    "y = mat_contents['labels'].reshape(Nc)\n",
    "Ch1 = dataset[:,0,:] # célula de carga: força do shaker\n",
    "Ch2 = dataset[:,1,:] # acelerômetro: base\n",
    "Ch3 = dataset[:,2,:] # acelerômetro: 1o andar\n",
    "Ch4 = dataset[:,3,:] # acelerômetro: 2o andar\n",
    "Ch5 = dataset[:,4,:] # acelerômetro: 3o andar\n",
    "FeatAR = []\n",
    "na=30 #Model Order\n",
    "for i in range(Nc):\n",
    "    ARmodel2 = ar_model.AutoReg(Ch2[:,i],na).fit()\n",
    "    ARmodel3 = ar_model.AutoReg(Ch3[:,i],na).fit()\n",
    "    ARmodel4 = ar_model.AutoReg(Ch4[:,i],na).fit()\n",
    "    ARmodel5 = ar_model.AutoReg(Ch5[:,i],na).fit()\n",
    "    ARparams = np.concatenate([ARmodel2.params,ARmodel3.params,ARmodel4.params,ARmodel5.params])\n",
    "    FeatAR.append(ARparams)\n",
    "FeatAR=np.array(FeatAR)\n",
    "FeatAR.shape # X1\n",
    "ln,cols = FeatAR.shape\n",
    "#Montar metodo de normalização\n",
    "dfAR = pd.concat([pd.DataFrame(FeatAR),pd.DataFrame({'target':y})],axis=1) "
   ]
  },
  {
   "cell_type": "markdown",
   "metadata": {},
   "source": [
    "01 - Design of Hyperparameter search:\n",
    "\n",
    "Testing 3 different models: softamax, SVM and KNN"
   ]
  },
  {
   "cell_type": "code",
   "execution_count": 10,
   "metadata": {},
   "outputs": [
    {
     "data": {
      "text/plain": [
       "[('DTR', DecisionTreeClassifier()), ('RFR', RandomForestClassifier())]"
      ]
     },
     "execution_count": 10,
     "metadata": {},
     "output_type": "execute_result"
    }
   ],
   "source": [
    "models = []\n",
    "# models.append((\"LRG\",LogisticRegression()))\n",
    "# models.append((\"SVC\",SVC()))\n",
    "# models.append((\"KNN\",KNeighborsClassifier()))\n",
    "models.append((\"DTR\",DecisionTreeClassifier()))\n",
    "models.append((\"RFR\",RandomForestClassifier()))\n",
    "models"
   ]
  },
  {
   "cell_type": "markdown",
   "metadata": {},
   "source": [
    "Define parameters to be tested:"
   ]
  },
  {
   "cell_type": "code",
   "execution_count": 15,
   "metadata": {},
   "outputs": [],
   "source": [
    "param_grids =[]\n",
    "# param_grids.append( #Softmax\n",
    "    \n",
    "#         {\n",
    "#             \"LRG__C\":[1, 10, 20, 60, 70, 100],\n",
    "#             \"LRG__solver\" :[ 'lbfgs', 'liblinear', 'sag'],\n",
    "#             \"LRG__multi_class\":['multinomial']  \n",
    "#         }\n",
    "    \n",
    "# )\n",
    "# param_grids.append( #SVC\n",
    "    \n",
    "#         {\n",
    "#             \"SVC__C\"      : stats.loguniform(1e-1,1e3),\n",
    "#             \"SVC__kernel\" : ['linear','poly','rbf','sigmoid'],\n",
    "#             \"SVC__degree\" : stats.randint(2,5),\n",
    "#             \"SVC__gamma\"  : stats.loguniform(1e-4,1e0)\n",
    "#         }\n",
    "    \n",
    "# )\n",
    "# param_grids.append( #KNN\n",
    "    \n",
    "#         {\n",
    "#             \"KNN__n_neighbors\" : stats.randint(2,100),\n",
    "#             \"KNN__weights\"      : [\"uniform\",\"distance\"],\n",
    "#             \"KNN__algorithm\" : [ \"ball_tree\", \"kd_tree\", \"brute\"],\n",
    "#             \"KNN__leaf_size\" : stats.randint(1,30)            \n",
    "#         }\n",
    "    \n",
    "# )\n",
    "\n",
    "param_grids.append( #DTR\n",
    "    \n",
    "        {\n",
    "           # \"DTR__criterion\" : [\"mse\",\"friedman_mse\"],\n",
    "            \"DTR__splitter\"      : [\"best\",\"random\"],\n",
    "            \"DTR__max_features\" : stats.randint(1,30)           \n",
    "        }    \n",
    ")\n",
    "\n",
    "param_grids.append( #RFR\n",
    "    \n",
    "        {\n",
    "            \"RFR__n_estimators\" : stats.randint(1,100),\n",
    "            #\"RFR__criterion\" : [\"mse\",\"mae\"],\n",
    "            \"RFR__max_depth\"      : stats.randint(2,20),\n",
    "            \"RFR__max_features\" : stats.uniform()           \n",
    "        }    \n",
    ")"
   ]
  },
  {
   "cell_type": "markdown",
   "metadata": {},
   "source": [
    "Get results for default parameters from each model"
   ]
  },
  {
   "cell_type": "code",
   "execution_count": 16,
   "metadata": {},
   "outputs": [
    {
     "name": "stdout",
     "output_type": "stream",
     "text": [
      "Iteração 1 - ('DTR', DecisionTreeClassifier())\n",
      "Resultados: Acurácia=0.8941176470588236\n",
      "Beste Params: {'DTR__max_features': 6, 'DTR__splitter': 'random'}\n",
      "########################################################\n",
      "\n",
      "Iteração 2 - ('RFR', RandomForestClassifier())\n"
     ]
    },
    {
     "ename": "KeyboardInterrupt",
     "evalue": "",
     "output_type": "error",
     "traceback": [
      "\u001b[1;31m---------------------------------------------------------------------------\u001b[0m",
      "\u001b[1;31mKeyboardInterrupt\u001b[0m                         Traceback (most recent call last)",
      "\u001b[1;32mc:\\Users\\gfs\\OneDrive - puc-rio.br\\03_3° Semestre\\Machine Learning\\Codigos\\himl_Take-home_exercises_gfs\\05_sup_III\\main.ipynb Cell 10'\u001b[0m in \u001b[0;36m<cell line: 7>\u001b[1;34m()\u001b[0m\n\u001b[0;32m     <a href='vscode-notebook-cell:/c%3A/Users/gfs/OneDrive%20-%20puc-rio.br/03_3%C2%B0%20Semestre/Machine%20Learning/Codigos/himl_Take-home_exercises_gfs/05_sup_III/main.ipynb#ch0000009?line=17'>18</a>\u001b[0m \u001b[39m#Cria modelo\u001b[39;00m\n\u001b[0;32m     <a href='vscode-notebook-cell:/c%3A/Users/gfs/OneDrive%20-%20puc-rio.br/03_3%C2%B0%20Semestre/Machine%20Learning/Codigos/himl_Take-home_exercises_gfs/05_sup_III/main.ipynb#ch0000009?line=18'>19</a>\u001b[0m rnd_model \u001b[39m=\u001b[39m RandomizedSearchCV(clf,verbose\u001b[39m=\u001b[39m\u001b[39m0\u001b[39m,n_iter\u001b[39m=\u001b[39mn_iter,n_jobs\u001b[39m=\u001b[39m\u001b[39m4\u001b[39m,cv\u001b[39m=\u001b[39mrkf,\n\u001b[0;32m     <a href='vscode-notebook-cell:/c%3A/Users/gfs/OneDrive%20-%20puc-rio.br/03_3%C2%B0%20Semestre/Machine%20Learning/Codigos/himl_Take-home_exercises_gfs/05_sup_III/main.ipynb#ch0000009?line=19'>20</a>\u001b[0m                                 random_state\u001b[39m=\u001b[39m\u001b[39m1\u001b[39m,param_distributions\u001b[39m=\u001b[39mparam_grid,scoring\u001b[39m=\u001b[39maccuracy_score)\n\u001b[1;32m---> <a href='vscode-notebook-cell:/c%3A/Users/gfs/OneDrive%20-%20puc-rio.br/03_3%C2%B0%20Semestre/Machine%20Learning/Codigos/himl_Take-home_exercises_gfs/05_sup_III/main.ipynb#ch0000009?line=20'>21</a>\u001b[0m rnd_model\u001b[39m.\u001b[39;49mfit(train_x,train_y)\n\u001b[0;32m     <a href='vscode-notebook-cell:/c%3A/Users/gfs/OneDrive%20-%20puc-rio.br/03_3%C2%B0%20Semestre/Machine%20Learning/Codigos/himl_Take-home_exercises_gfs/05_sup_III/main.ipynb#ch0000009?line=21'>22</a>\u001b[0m best_params\u001b[39m.\u001b[39mappend(rnd_model\u001b[39m.\u001b[39mbest_params_)\n\u001b[0;32m     <a href='vscode-notebook-cell:/c%3A/Users/gfs/OneDrive%20-%20puc-rio.br/03_3%C2%B0%20Semestre/Machine%20Learning/Codigos/himl_Take-home_exercises_gfs/05_sup_III/main.ipynb#ch0000009?line=22'>23</a>\u001b[0m yh_teste \u001b[39m=\u001b[39m rnd_model\u001b[39m.\u001b[39mpredict(test_x)\n",
      "File \u001b[1;32m~\\AppData\\Local\\Programs\\Python\\Python38-32\\lib\\site-packages\\sklearn\\model_selection\\_search.py:891\u001b[0m, in \u001b[0;36mBaseSearchCV.fit\u001b[1;34m(self, X, y, groups, **fit_params)\u001b[0m\n\u001b[0;32m    <a href='file:///c%3A/Users/gfs/AppData/Local/Programs/Python/Python38-32/lib/site-packages/sklearn/model_selection/_search.py?line=884'>885</a>\u001b[0m     results \u001b[39m=\u001b[39m \u001b[39mself\u001b[39m\u001b[39m.\u001b[39m_format_results(\n\u001b[0;32m    <a href='file:///c%3A/Users/gfs/AppData/Local/Programs/Python/Python38-32/lib/site-packages/sklearn/model_selection/_search.py?line=885'>886</a>\u001b[0m         all_candidate_params, n_splits, all_out, all_more_results\n\u001b[0;32m    <a href='file:///c%3A/Users/gfs/AppData/Local/Programs/Python/Python38-32/lib/site-packages/sklearn/model_selection/_search.py?line=886'>887</a>\u001b[0m     )\n\u001b[0;32m    <a href='file:///c%3A/Users/gfs/AppData/Local/Programs/Python/Python38-32/lib/site-packages/sklearn/model_selection/_search.py?line=888'>889</a>\u001b[0m     \u001b[39mreturn\u001b[39;00m results\n\u001b[1;32m--> <a href='file:///c%3A/Users/gfs/AppData/Local/Programs/Python/Python38-32/lib/site-packages/sklearn/model_selection/_search.py?line=890'>891</a>\u001b[0m \u001b[39mself\u001b[39;49m\u001b[39m.\u001b[39;49m_run_search(evaluate_candidates)\n\u001b[0;32m    <a href='file:///c%3A/Users/gfs/AppData/Local/Programs/Python/Python38-32/lib/site-packages/sklearn/model_selection/_search.py?line=892'>893</a>\u001b[0m \u001b[39m# multimetric is determined here because in the case of a callable\u001b[39;00m\n\u001b[0;32m    <a href='file:///c%3A/Users/gfs/AppData/Local/Programs/Python/Python38-32/lib/site-packages/sklearn/model_selection/_search.py?line=893'>894</a>\u001b[0m \u001b[39m# self.scoring the return type is only known after calling\u001b[39;00m\n\u001b[0;32m    <a href='file:///c%3A/Users/gfs/AppData/Local/Programs/Python/Python38-32/lib/site-packages/sklearn/model_selection/_search.py?line=894'>895</a>\u001b[0m first_test_score \u001b[39m=\u001b[39m all_out[\u001b[39m0\u001b[39m][\u001b[39m\"\u001b[39m\u001b[39mtest_scores\u001b[39m\u001b[39m\"\u001b[39m]\n",
      "File \u001b[1;32m~\\AppData\\Local\\Programs\\Python\\Python38-32\\lib\\site-packages\\sklearn\\model_selection\\_search.py:1766\u001b[0m, in \u001b[0;36mRandomizedSearchCV._run_search\u001b[1;34m(self, evaluate_candidates)\u001b[0m\n\u001b[0;32m   <a href='file:///c%3A/Users/gfs/AppData/Local/Programs/Python/Python38-32/lib/site-packages/sklearn/model_selection/_search.py?line=1763'>1764</a>\u001b[0m \u001b[39mdef\u001b[39;00m \u001b[39m_run_search\u001b[39m(\u001b[39mself\u001b[39m, evaluate_candidates):\n\u001b[0;32m   <a href='file:///c%3A/Users/gfs/AppData/Local/Programs/Python/Python38-32/lib/site-packages/sklearn/model_selection/_search.py?line=1764'>1765</a>\u001b[0m     \u001b[39m\"\"\"Search n_iter candidates from param_distributions\"\"\"\u001b[39;00m\n\u001b[1;32m-> <a href='file:///c%3A/Users/gfs/AppData/Local/Programs/Python/Python38-32/lib/site-packages/sklearn/model_selection/_search.py?line=1765'>1766</a>\u001b[0m     evaluate_candidates(\n\u001b[0;32m   <a href='file:///c%3A/Users/gfs/AppData/Local/Programs/Python/Python38-32/lib/site-packages/sklearn/model_selection/_search.py?line=1766'>1767</a>\u001b[0m         ParameterSampler(\n\u001b[0;32m   <a href='file:///c%3A/Users/gfs/AppData/Local/Programs/Python/Python38-32/lib/site-packages/sklearn/model_selection/_search.py?line=1767'>1768</a>\u001b[0m             \u001b[39mself\u001b[39;49m\u001b[39m.\u001b[39;49mparam_distributions, \u001b[39mself\u001b[39;49m\u001b[39m.\u001b[39;49mn_iter, random_state\u001b[39m=\u001b[39;49m\u001b[39mself\u001b[39;49m\u001b[39m.\u001b[39;49mrandom_state\n\u001b[0;32m   <a href='file:///c%3A/Users/gfs/AppData/Local/Programs/Python/Python38-32/lib/site-packages/sklearn/model_selection/_search.py?line=1768'>1769</a>\u001b[0m         )\n\u001b[0;32m   <a href='file:///c%3A/Users/gfs/AppData/Local/Programs/Python/Python38-32/lib/site-packages/sklearn/model_selection/_search.py?line=1769'>1770</a>\u001b[0m     )\n",
      "File \u001b[1;32m~\\AppData\\Local\\Programs\\Python\\Python38-32\\lib\\site-packages\\sklearn\\model_selection\\_search.py:838\u001b[0m, in \u001b[0;36mBaseSearchCV.fit.<locals>.evaluate_candidates\u001b[1;34m(candidate_params, cv, more_results)\u001b[0m\n\u001b[0;32m    <a href='file:///c%3A/Users/gfs/AppData/Local/Programs/Python/Python38-32/lib/site-packages/sklearn/model_selection/_search.py?line=829'>830</a>\u001b[0m \u001b[39mif\u001b[39;00m \u001b[39mself\u001b[39m\u001b[39m.\u001b[39mverbose \u001b[39m>\u001b[39m \u001b[39m0\u001b[39m:\n\u001b[0;32m    <a href='file:///c%3A/Users/gfs/AppData/Local/Programs/Python/Python38-32/lib/site-packages/sklearn/model_selection/_search.py?line=830'>831</a>\u001b[0m     \u001b[39mprint\u001b[39m(\n\u001b[0;32m    <a href='file:///c%3A/Users/gfs/AppData/Local/Programs/Python/Python38-32/lib/site-packages/sklearn/model_selection/_search.py?line=831'>832</a>\u001b[0m         \u001b[39m\"\u001b[39m\u001b[39mFitting \u001b[39m\u001b[39m{0}\u001b[39;00m\u001b[39m folds for each of \u001b[39m\u001b[39m{1}\u001b[39;00m\u001b[39m candidates,\u001b[39m\u001b[39m\"\u001b[39m\n\u001b[0;32m    <a href='file:///c%3A/Users/gfs/AppData/Local/Programs/Python/Python38-32/lib/site-packages/sklearn/model_selection/_search.py?line=832'>833</a>\u001b[0m         \u001b[39m\"\u001b[39m\u001b[39m totalling \u001b[39m\u001b[39m{2}\u001b[39;00m\u001b[39m fits\u001b[39m\u001b[39m\"\u001b[39m\u001b[39m.\u001b[39mformat(\n\u001b[0;32m    <a href='file:///c%3A/Users/gfs/AppData/Local/Programs/Python/Python38-32/lib/site-packages/sklearn/model_selection/_search.py?line=833'>834</a>\u001b[0m             n_splits, n_candidates, n_candidates \u001b[39m*\u001b[39m n_splits\n\u001b[0;32m    <a href='file:///c%3A/Users/gfs/AppData/Local/Programs/Python/Python38-32/lib/site-packages/sklearn/model_selection/_search.py?line=834'>835</a>\u001b[0m         )\n\u001b[0;32m    <a href='file:///c%3A/Users/gfs/AppData/Local/Programs/Python/Python38-32/lib/site-packages/sklearn/model_selection/_search.py?line=835'>836</a>\u001b[0m     )\n\u001b[1;32m--> <a href='file:///c%3A/Users/gfs/AppData/Local/Programs/Python/Python38-32/lib/site-packages/sklearn/model_selection/_search.py?line=837'>838</a>\u001b[0m out \u001b[39m=\u001b[39m parallel(\n\u001b[0;32m    <a href='file:///c%3A/Users/gfs/AppData/Local/Programs/Python/Python38-32/lib/site-packages/sklearn/model_selection/_search.py?line=838'>839</a>\u001b[0m     delayed(_fit_and_score)(\n\u001b[0;32m    <a href='file:///c%3A/Users/gfs/AppData/Local/Programs/Python/Python38-32/lib/site-packages/sklearn/model_selection/_search.py?line=839'>840</a>\u001b[0m         clone(base_estimator),\n\u001b[0;32m    <a href='file:///c%3A/Users/gfs/AppData/Local/Programs/Python/Python38-32/lib/site-packages/sklearn/model_selection/_search.py?line=840'>841</a>\u001b[0m         X,\n\u001b[0;32m    <a href='file:///c%3A/Users/gfs/AppData/Local/Programs/Python/Python38-32/lib/site-packages/sklearn/model_selection/_search.py?line=841'>842</a>\u001b[0m         y,\n\u001b[0;32m    <a href='file:///c%3A/Users/gfs/AppData/Local/Programs/Python/Python38-32/lib/site-packages/sklearn/model_selection/_search.py?line=842'>843</a>\u001b[0m         train\u001b[39m=\u001b[39;49mtrain,\n\u001b[0;32m    <a href='file:///c%3A/Users/gfs/AppData/Local/Programs/Python/Python38-32/lib/site-packages/sklearn/model_selection/_search.py?line=843'>844</a>\u001b[0m         test\u001b[39m=\u001b[39;49mtest,\n\u001b[0;32m    <a href='file:///c%3A/Users/gfs/AppData/Local/Programs/Python/Python38-32/lib/site-packages/sklearn/model_selection/_search.py?line=844'>845</a>\u001b[0m         parameters\u001b[39m=\u001b[39;49mparameters,\n\u001b[0;32m    <a href='file:///c%3A/Users/gfs/AppData/Local/Programs/Python/Python38-32/lib/site-packages/sklearn/model_selection/_search.py?line=845'>846</a>\u001b[0m         split_progress\u001b[39m=\u001b[39;49m(split_idx, n_splits),\n\u001b[0;32m    <a href='file:///c%3A/Users/gfs/AppData/Local/Programs/Python/Python38-32/lib/site-packages/sklearn/model_selection/_search.py?line=846'>847</a>\u001b[0m         candidate_progress\u001b[39m=\u001b[39;49m(cand_idx, n_candidates),\n\u001b[0;32m    <a href='file:///c%3A/Users/gfs/AppData/Local/Programs/Python/Python38-32/lib/site-packages/sklearn/model_selection/_search.py?line=847'>848</a>\u001b[0m         \u001b[39m*\u001b[39;49m\u001b[39m*\u001b[39;49mfit_and_score_kwargs,\n\u001b[0;32m    <a href='file:///c%3A/Users/gfs/AppData/Local/Programs/Python/Python38-32/lib/site-packages/sklearn/model_selection/_search.py?line=848'>849</a>\u001b[0m     )\n\u001b[0;32m    <a href='file:///c%3A/Users/gfs/AppData/Local/Programs/Python/Python38-32/lib/site-packages/sklearn/model_selection/_search.py?line=849'>850</a>\u001b[0m     \u001b[39mfor\u001b[39;49;00m (cand_idx, parameters), (split_idx, (train, test)) \u001b[39min\u001b[39;49;00m product(\n\u001b[0;32m    <a href='file:///c%3A/Users/gfs/AppData/Local/Programs/Python/Python38-32/lib/site-packages/sklearn/model_selection/_search.py?line=850'>851</a>\u001b[0m         \u001b[39menumerate\u001b[39;49m(candidate_params), \u001b[39menumerate\u001b[39;49m(cv\u001b[39m.\u001b[39;49msplit(X, y, groups))\n\u001b[0;32m    <a href='file:///c%3A/Users/gfs/AppData/Local/Programs/Python/Python38-32/lib/site-packages/sklearn/model_selection/_search.py?line=851'>852</a>\u001b[0m     )\n\u001b[0;32m    <a href='file:///c%3A/Users/gfs/AppData/Local/Programs/Python/Python38-32/lib/site-packages/sklearn/model_selection/_search.py?line=852'>853</a>\u001b[0m )\n\u001b[0;32m    <a href='file:///c%3A/Users/gfs/AppData/Local/Programs/Python/Python38-32/lib/site-packages/sklearn/model_selection/_search.py?line=854'>855</a>\u001b[0m \u001b[39mif\u001b[39;00m \u001b[39mlen\u001b[39m(out) \u001b[39m<\u001b[39m \u001b[39m1\u001b[39m:\n\u001b[0;32m    <a href='file:///c%3A/Users/gfs/AppData/Local/Programs/Python/Python38-32/lib/site-packages/sklearn/model_selection/_search.py?line=855'>856</a>\u001b[0m     \u001b[39mraise\u001b[39;00m \u001b[39mValueError\u001b[39;00m(\n\u001b[0;32m    <a href='file:///c%3A/Users/gfs/AppData/Local/Programs/Python/Python38-32/lib/site-packages/sklearn/model_selection/_search.py?line=856'>857</a>\u001b[0m         \u001b[39m\"\u001b[39m\u001b[39mNo fits were performed. \u001b[39m\u001b[39m\"\u001b[39m\n\u001b[0;32m    <a href='file:///c%3A/Users/gfs/AppData/Local/Programs/Python/Python38-32/lib/site-packages/sklearn/model_selection/_search.py?line=857'>858</a>\u001b[0m         \u001b[39m\"\u001b[39m\u001b[39mWas the CV iterator empty? \u001b[39m\u001b[39m\"\u001b[39m\n\u001b[0;32m    <a href='file:///c%3A/Users/gfs/AppData/Local/Programs/Python/Python38-32/lib/site-packages/sklearn/model_selection/_search.py?line=858'>859</a>\u001b[0m         \u001b[39m\"\u001b[39m\u001b[39mWere there no candidates?\u001b[39m\u001b[39m\"\u001b[39m\n\u001b[0;32m    <a href='file:///c%3A/Users/gfs/AppData/Local/Programs/Python/Python38-32/lib/site-packages/sklearn/model_selection/_search.py?line=859'>860</a>\u001b[0m     )\n",
      "File \u001b[1;32m~\\AppData\\Local\\Programs\\Python\\Python38-32\\lib\\site-packages\\joblib\\parallel.py:1056\u001b[0m, in \u001b[0;36mParallel.__call__\u001b[1;34m(self, iterable)\u001b[0m\n\u001b[0;32m   <a href='file:///c%3A/Users/gfs/AppData/Local/Programs/Python/Python38-32/lib/site-packages/joblib/parallel.py?line=1052'>1053</a>\u001b[0m     \u001b[39mself\u001b[39m\u001b[39m.\u001b[39m_iterating \u001b[39m=\u001b[39m \u001b[39mFalse\u001b[39;00m\n\u001b[0;32m   <a href='file:///c%3A/Users/gfs/AppData/Local/Programs/Python/Python38-32/lib/site-packages/joblib/parallel.py?line=1054'>1055</a>\u001b[0m \u001b[39mwith\u001b[39;00m \u001b[39mself\u001b[39m\u001b[39m.\u001b[39m_backend\u001b[39m.\u001b[39mretrieval_context():\n\u001b[1;32m-> <a href='file:///c%3A/Users/gfs/AppData/Local/Programs/Python/Python38-32/lib/site-packages/joblib/parallel.py?line=1055'>1056</a>\u001b[0m     \u001b[39mself\u001b[39;49m\u001b[39m.\u001b[39;49mretrieve()\n\u001b[0;32m   <a href='file:///c%3A/Users/gfs/AppData/Local/Programs/Python/Python38-32/lib/site-packages/joblib/parallel.py?line=1056'>1057</a>\u001b[0m \u001b[39m# Make sure that we get a last message telling us we are done\u001b[39;00m\n\u001b[0;32m   <a href='file:///c%3A/Users/gfs/AppData/Local/Programs/Python/Python38-32/lib/site-packages/joblib/parallel.py?line=1057'>1058</a>\u001b[0m elapsed_time \u001b[39m=\u001b[39m time\u001b[39m.\u001b[39mtime() \u001b[39m-\u001b[39m \u001b[39mself\u001b[39m\u001b[39m.\u001b[39m_start_time\n",
      "File \u001b[1;32m~\\AppData\\Local\\Programs\\Python\\Python38-32\\lib\\site-packages\\joblib\\parallel.py:935\u001b[0m, in \u001b[0;36mParallel.retrieve\u001b[1;34m(self)\u001b[0m\n\u001b[0;32m    <a href='file:///c%3A/Users/gfs/AppData/Local/Programs/Python/Python38-32/lib/site-packages/joblib/parallel.py?line=932'>933</a>\u001b[0m \u001b[39mtry\u001b[39;00m:\n\u001b[0;32m    <a href='file:///c%3A/Users/gfs/AppData/Local/Programs/Python/Python38-32/lib/site-packages/joblib/parallel.py?line=933'>934</a>\u001b[0m     \u001b[39mif\u001b[39;00m \u001b[39mgetattr\u001b[39m(\u001b[39mself\u001b[39m\u001b[39m.\u001b[39m_backend, \u001b[39m'\u001b[39m\u001b[39msupports_timeout\u001b[39m\u001b[39m'\u001b[39m, \u001b[39mFalse\u001b[39;00m):\n\u001b[1;32m--> <a href='file:///c%3A/Users/gfs/AppData/Local/Programs/Python/Python38-32/lib/site-packages/joblib/parallel.py?line=934'>935</a>\u001b[0m         \u001b[39mself\u001b[39m\u001b[39m.\u001b[39m_output\u001b[39m.\u001b[39mextend(job\u001b[39m.\u001b[39;49mget(timeout\u001b[39m=\u001b[39;49m\u001b[39mself\u001b[39;49m\u001b[39m.\u001b[39;49mtimeout))\n\u001b[0;32m    <a href='file:///c%3A/Users/gfs/AppData/Local/Programs/Python/Python38-32/lib/site-packages/joblib/parallel.py?line=935'>936</a>\u001b[0m     \u001b[39melse\u001b[39;00m:\n\u001b[0;32m    <a href='file:///c%3A/Users/gfs/AppData/Local/Programs/Python/Python38-32/lib/site-packages/joblib/parallel.py?line=936'>937</a>\u001b[0m         \u001b[39mself\u001b[39m\u001b[39m.\u001b[39m_output\u001b[39m.\u001b[39mextend(job\u001b[39m.\u001b[39mget())\n",
      "File \u001b[1;32m~\\AppData\\Local\\Programs\\Python\\Python38-32\\lib\\site-packages\\joblib\\_parallel_backends.py:542\u001b[0m, in \u001b[0;36mLokyBackend.wrap_future_result\u001b[1;34m(future, timeout)\u001b[0m\n\u001b[0;32m    <a href='file:///c%3A/Users/gfs/AppData/Local/Programs/Python/Python38-32/lib/site-packages/joblib/_parallel_backends.py?line=538'>539</a>\u001b[0m \u001b[39m\"\"\"Wrapper for Future.result to implement the same behaviour as\u001b[39;00m\n\u001b[0;32m    <a href='file:///c%3A/Users/gfs/AppData/Local/Programs/Python/Python38-32/lib/site-packages/joblib/_parallel_backends.py?line=539'>540</a>\u001b[0m \u001b[39mAsyncResults.get from multiprocessing.\"\"\"\u001b[39;00m\n\u001b[0;32m    <a href='file:///c%3A/Users/gfs/AppData/Local/Programs/Python/Python38-32/lib/site-packages/joblib/_parallel_backends.py?line=540'>541</a>\u001b[0m \u001b[39mtry\u001b[39;00m:\n\u001b[1;32m--> <a href='file:///c%3A/Users/gfs/AppData/Local/Programs/Python/Python38-32/lib/site-packages/joblib/_parallel_backends.py?line=541'>542</a>\u001b[0m     \u001b[39mreturn\u001b[39;00m future\u001b[39m.\u001b[39;49mresult(timeout\u001b[39m=\u001b[39;49mtimeout)\n\u001b[0;32m    <a href='file:///c%3A/Users/gfs/AppData/Local/Programs/Python/Python38-32/lib/site-packages/joblib/_parallel_backends.py?line=542'>543</a>\u001b[0m \u001b[39mexcept\u001b[39;00m CfTimeoutError \u001b[39mas\u001b[39;00m e:\n\u001b[0;32m    <a href='file:///c%3A/Users/gfs/AppData/Local/Programs/Python/Python38-32/lib/site-packages/joblib/_parallel_backends.py?line=543'>544</a>\u001b[0m     \u001b[39mraise\u001b[39;00m \u001b[39mTimeoutError\u001b[39;00m \u001b[39mfrom\u001b[39;00m \u001b[39me\u001b[39;00m\n",
      "File \u001b[1;32m~\\AppData\\Local\\Programs\\Python\\Python38-32\\lib\\concurrent\\futures\\_base.py:434\u001b[0m, in \u001b[0;36mFuture.result\u001b[1;34m(self, timeout)\u001b[0m\n\u001b[0;32m    <a href='file:///c%3A/Users/gfs/AppData/Local/Programs/Python/Python38-32/lib/concurrent/futures/_base.py?line=430'>431</a>\u001b[0m \u001b[39melif\u001b[39;00m \u001b[39mself\u001b[39m\u001b[39m.\u001b[39m_state \u001b[39m==\u001b[39m FINISHED:\n\u001b[0;32m    <a href='file:///c%3A/Users/gfs/AppData/Local/Programs/Python/Python38-32/lib/concurrent/futures/_base.py?line=431'>432</a>\u001b[0m     \u001b[39mreturn\u001b[39;00m \u001b[39mself\u001b[39m\u001b[39m.\u001b[39m__get_result()\n\u001b[1;32m--> <a href='file:///c%3A/Users/gfs/AppData/Local/Programs/Python/Python38-32/lib/concurrent/futures/_base.py?line=433'>434</a>\u001b[0m \u001b[39mself\u001b[39;49m\u001b[39m.\u001b[39;49m_condition\u001b[39m.\u001b[39;49mwait(timeout)\n\u001b[0;32m    <a href='file:///c%3A/Users/gfs/AppData/Local/Programs/Python/Python38-32/lib/concurrent/futures/_base.py?line=435'>436</a>\u001b[0m \u001b[39mif\u001b[39;00m \u001b[39mself\u001b[39m\u001b[39m.\u001b[39m_state \u001b[39min\u001b[39;00m [CANCELLED, CANCELLED_AND_NOTIFIED]:\n\u001b[0;32m    <a href='file:///c%3A/Users/gfs/AppData/Local/Programs/Python/Python38-32/lib/concurrent/futures/_base.py?line=436'>437</a>\u001b[0m     \u001b[39mraise\u001b[39;00m CancelledError()\n",
      "File \u001b[1;32m~\\AppData\\Local\\Programs\\Python\\Python38-32\\lib\\threading.py:302\u001b[0m, in \u001b[0;36mCondition.wait\u001b[1;34m(self, timeout)\u001b[0m\n\u001b[0;32m    <a href='file:///c%3A/Users/gfs/AppData/Local/Programs/Python/Python38-32/lib/threading.py?line=299'>300</a>\u001b[0m \u001b[39mtry\u001b[39;00m:    \u001b[39m# restore state no matter what (e.g., KeyboardInterrupt)\u001b[39;00m\n\u001b[0;32m    <a href='file:///c%3A/Users/gfs/AppData/Local/Programs/Python/Python38-32/lib/threading.py?line=300'>301</a>\u001b[0m     \u001b[39mif\u001b[39;00m timeout \u001b[39mis\u001b[39;00m \u001b[39mNone\u001b[39;00m:\n\u001b[1;32m--> <a href='file:///c%3A/Users/gfs/AppData/Local/Programs/Python/Python38-32/lib/threading.py?line=301'>302</a>\u001b[0m         waiter\u001b[39m.\u001b[39;49macquire()\n\u001b[0;32m    <a href='file:///c%3A/Users/gfs/AppData/Local/Programs/Python/Python38-32/lib/threading.py?line=302'>303</a>\u001b[0m         gotit \u001b[39m=\u001b[39m \u001b[39mTrue\u001b[39;00m\n\u001b[0;32m    <a href='file:///c%3A/Users/gfs/AppData/Local/Programs/Python/Python38-32/lib/threading.py?line=303'>304</a>\u001b[0m     \u001b[39melse\u001b[39;00m:\n",
      "\u001b[1;31mKeyboardInterrupt\u001b[0m: "
     ]
    }
   ],
   "source": [
    "kfolds = 5\n",
    "nkiter = 50\n",
    "n_iter = 100\n",
    "acc=[]\n",
    "cfmx =[]\n",
    "best_params =[]\n",
    "for i,md in enumerate(models):\n",
    "    print(f'Iteração {i+1} - {md}')\n",
    "    #Separar Data set em conjuntos de treino e teste ()\n",
    "    train_x, test_x, train_y, test_y = train_test_split(dfAR[dfAR.columns[0:-1]], dfAR.target, test_size=0.4, random_state=1)\n",
    "\n",
    "    rkf = RepeatedKFold(n_splits=kfolds,n_repeats=nkiter,random_state=1)\n",
    "\n",
    "    clf = Pipeline([(\"scaler\",StandardScaler()),(md)])\n",
    "\n",
    "    param_grid = param_grids[i]\n",
    "\n",
    "    #Cria modelo\n",
    "    rnd_model = RandomizedSearchCV(clf,verbose=0,n_iter=n_iter,n_jobs=4,cv=rkf,\n",
    "                                    random_state=1,param_distributions=param_grid,scoring=accuracy_score)\n",
    "    rnd_model.fit(train_x,train_y)\n",
    "    best_params.append(rnd_model.best_params_)\n",
    "    yh_teste = rnd_model.predict(test_x)\n",
    "    acc.append(accuracy_score(test_y, yh_teste,normalize=True))\n",
    "    cfmx.append(confusion_matrix(test_y, yh_teste))\n",
    "    print(f'Resultados: Acurácia={acc[i]}')\n",
    "    print(f'Beste Params: {best_params[i]}')\n",
    "    print('########################################################\\n')\n",
    "    \n",
    "   "
   ]
  },
  {
   "cell_type": "markdown",
   "metadata": {},
   "source": [
    "Confusion Matrix Comparing"
   ]
  },
  {
   "cell_type": "code",
   "execution_count": null,
   "metadata": {},
   "outputs": [],
   "source": [
    "plt.figure(figsize=(30, 10), dpi=80)\n",
    "plt.subplot(231)\n",
    "ax0 = sns.heatmap(cfmx[0],  cmap='Blues')\n",
    "ax0.set_title(f'Softmax - Matriz Confusão -\\n Acurácia:{round(100*acc[0],2)}% -\\n Best Params:{best_params[0]}')\n",
    "ax0.set_xlabel('\\nValores Estimados\\n')\n",
    "ax0.set_ylabel('Valores Reais')\n",
    "\n",
    "plt.subplot(232)\n",
    "ax1 = sns.heatmap(cfmx[1],  cmap='Blues')\n",
    "ax1.set_title(f'SVM - Matriz Confusão -\\n Acurácia:{round(100*acc[1],2)}% -\\n Best Params:{best_params[1]}')\n",
    "ax1.set_xlabel('\\nValores Estimados\\n')\n",
    "ax1.set_ylabel('Valores Reais')\n",
    "\n",
    "plt.subplot(233)\n",
    "ax2 = sns.heatmap(cfmx[2],  cmap='Blues')\n",
    "ax2.set_title(f'kNN - Matriz Confusão -\\n Acurácia:{round(100*acc[2],2)}% -\\n Best Params:{best_params[2]}')\n",
    "ax2.set_xlabel('\\nValores Estimados\\n')\n",
    "ax2.set_ylabel('Valores Reais')\n",
    "\n",
    "\n",
    "plt.subplot(234)\n",
    "ax3 = sns.heatmap(cfmx[3],  cmap='Blues')\n",
    "ax3.set_title(f'DTR - Matriz Confusão -\\n Acurácia:{round(100*acc[3],2)}% -\\n Best Params:{best_params[3]}')\n",
    "ax3.set_xlabel('\\nValores Estimados\\n')\n",
    "ax3.set_ylabel('Valores Reais')\n",
    "\n",
    "\n",
    "plt.subplot(235)\n",
    "ax4 = sns.heatmap(cfmx[4],  cmap='Blues')\n",
    "ax4.set_title(f'RFR - Matriz Confusão -\\n Acurácia:{round(100*acc[4],2)}% -\\n Best Params:{best_params[4]}')\n",
    "ax4.set_xlabel('\\nValores Estimados\\n')\n",
    "ax4.set_ylabel('Valores Reais')\n",
    "plt.show()"
   ]
  }
 ],
 "metadata": {
  "interpreter": {
   "hash": "1baa965d5efe3ac65b79dfc60c0d706280b1da80fedb7760faf2759126c4f253"
  },
  "kernelspec": {
   "display_name": "Python 3.8.10 64-bit",
   "language": "python",
   "name": "python3"
  },
  "language_info": {
   "codemirror_mode": {
    "name": "ipython",
    "version": 3
   },
   "file_extension": ".py",
   "mimetype": "text/x-python",
   "name": "python",
   "nbconvert_exporter": "python",
   "pygments_lexer": "ipython3",
   "version": "3.8.5"
  },
  "orig_nbformat": 4
 },
 "nbformat": 4,
 "nbformat_minor": 2
}
