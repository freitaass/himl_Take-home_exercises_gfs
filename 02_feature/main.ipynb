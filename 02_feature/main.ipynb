{
 "cells": [
  {
   "cell_type": "markdown",
   "metadata": {},
   "source": [
    "Aluno: Gabriel Freitas Santos\n",
    "Data: 24-03-2022\n",
    "Disciplina: MEC2014 - HIML\n",
    "\n",
    "Obtain features\n",
    "    a. With AR models of each channel\n",
    "        a. Ch2-Ch5, concatenating each AR model coefficient of each channel (model order = 30)\n",
    "            a. X1 ---> 850 lines; 30*4=120 columns\n",
    "    b. PCA of the matrix built in 4.a.a.\n",
    "        a. X2 ---> 850 lines; << 120 columns after dimensionality reduction\n",
    "    b. Scale all features individually in e.g. [-1,1]\n",
    "    c. Visualize and compare X1, X2 (see code in Plotting multidimensional spaces)"
   ]
  },
  {
   "cell_type": "markdown",
   "metadata": {},
   "source": [
    "0 - Inicializando Equipamento"
   ]
  },
  {
   "cell_type": "code",
   "execution_count": 44,
   "metadata": {},
   "outputs": [],
   "source": [
    "import pandas as pd\n",
    "import scipy.io as sio\n",
    "import numpy as np\n",
    "from os import getcwd\n",
    "from os.path import join \n",
    "import matplotlib.pyplot as plt\n",
    "from tqdm.notebook import tqdm_notebook as tqdm\n",
    "from statsmodels.tsa import ar_model\n",
    "from sklearn.decomposition import PCA\n"
   ]
  },
  {
   "cell_type": "markdown",
   "metadata": {},
   "source": [
    "1 - Download Conjunto de Dados:\n",
    "(https://github.com/helonayala/himl_read_data)"
   ]
  },
  {
   "cell_type": "code",
   "execution_count": 2,
   "metadata": {},
   "outputs": [
    {
     "name": "stdout",
     "output_type": "stream",
     "text": [
      "Amostras:8192, Canais:5, Numero de Casos:850\n"
     ]
    }
   ],
   "source": [
    "fname = join(getcwd(),'data3SS2009.mat')\n",
    "mat_contents = sio.loadmat(fname)\n",
    "dataset = mat_contents['dataset']\n",
    "N, Chno, Nc = dataset.shape\n",
    "y = mat_contents['labels'].reshape(Nc)\n",
    "print(f'Amostras:{N}, Canais:{Chno}, Numero de Casos:{Nc}')"
   ]
  },
  {
   "cell_type": "markdown",
   "metadata": {},
   "source": [
    "2 - Definição das variaveis de cada Canal"
   ]
  },
  {
   "cell_type": "code",
   "execution_count": 3,
   "metadata": {},
   "outputs": [],
   "source": [
    "Ch1 = dataset[:,0,:] # célula de carga: força do shaker\n",
    "Ch2 = dataset[:,1,:] # acelerômetro: base\n",
    "Ch3 = dataset[:,2,:] # acelerômetro: 1o andar\n",
    "Ch4 = dataset[:,3,:] # acelerômetro: 2o andar\n",
    "Ch5 = dataset[:,4,:] # acelerômetro: 3o andar"
   ]
  },
  {
   "cell_type": "markdown",
   "metadata": {},
   "source": [
    "3- Buscar pesos do modelo AR"
   ]
  },
  {
   "cell_type": "code",
   "execution_count": 23,
   "metadata": {},
   "outputs": [
    {
     "data": {
      "application/vnd.jupyter.widget-view+json": {
       "model_id": "0833dac274d3476cad18ea4e2741198a",
       "version_major": 2,
       "version_minor": 0
      },
      "text/plain": [
       "  0%|          | 0/850 [00:00<?, ?it/s]"
      ]
     },
     "metadata": {},
     "output_type": "display_data"
    }
   ],
   "source": [
    "FeatAR = []\n",
    "na=30 #Model Order\n",
    "for i in tqdm(range(Nc)):\n",
    "    ARmodel2 = ar_model.AutoReg(Ch2[:,i],na).fit()\n",
    "    ARmodel3 = ar_model.AutoReg(Ch3[:,i],na).fit()\n",
    "    ARmodel4 = ar_model.AutoReg(Ch4[:,i],na).fit()\n",
    "    ARmodel5 = ar_model.AutoReg(Ch5[:,i],na).fit()\n",
    "    ARparams = np.concatenate([ARmodel2.params,ARmodel3.params,ARmodel4.params,ARmodel5.params])\n",
    "    FeatAR.append(ARparams)\n",
    "FeatAR=np.array(FeatAR)\n",
    "FeatAR.shape\n"
   ]
  },
  {
   "cell_type": "markdown",
   "metadata": {},
   "source": [
    "4 - Aplicação de PCA para redução de dimensionalidade"
   ]
  },
  {
   "cell_type": "code",
   "execution_count": 48,
   "metadata": {},
   "outputs": [
    {
     "name": "stdout",
     "output_type": "stream",
     "text": [
      "Numero de Componentes que garante 90% da variancia explica é de 4. Total Variância explicada de 91.09%\n"
     ]
    },
    {
     "data": {
      "image/png": "[encoded data removed]",
      "text/plain": [
       "<Figure size 432x288 with 1 Axes>"
      ]
     },
     "metadata": {
      "needs_background": "light"
     },
     "output_type": "display_data"
    }
   ],
   "source": [
    "ln,cols = FeatAR.shape\n",
    "for i in range(1,cols+1,1):\n",
    "    pca = PCA(n_components=i)\n",
    "    X2 = pca.fit_transform(FeatAR)\n",
    "    exp_var_arr = pca.explained_variance_ratio_\n",
    "    exp_var = sum(exp_var_arr)\n",
    "    if exp_var>=0.9:\n",
    "        break\n",
    "    else:\n",
    "        continue\n",
    "print(f'Numero de Componentes que garante 90% da variancia explica é de {i}. Total Variância explicada de {round(exp_var*100,2)}%')\n",
    "ass"
   ]
  }
 ],
 "metadata": {
  "interpreter": {
   "hash": "1baa965d5efe3ac65b79dfc60c0d706280b1da80fedb7760faf2759126c4f253"
  },
  "kernelspec": {
   "display_name": "Python 3.8.10 64-bit",
   "language": "python",
   "name": "python3"
  },
  "language_info": {
   "codemirror_mode": {
    "name": "ipython",
    "version": 3
   },
   "file_extension": ".py",
   "mimetype": "text/x-python",
   "name": "python",
   "nbconvert_exporter": "python",
   "pygments_lexer": "ipython3",
   "version": "3.8.10"
  },
  "orig_nbformat": 4
 },
 "nbformat": 4,
 "nbformat_minor": 2
}
